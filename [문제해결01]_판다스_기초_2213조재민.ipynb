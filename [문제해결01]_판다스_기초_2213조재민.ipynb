{
  "nbformat": 4,
  "nbformat_minor": 0,
  "metadata": {
    "colab": {
      "provenance": [],
      "include_colab_link": true
    },
    "kernelspec": {
      "name": "python3",
      "display_name": "Python 3"
    },
    "language_info": {
      "name": "python"
    }
  },
  "cells": [
    {
      "cell_type": "markdown",
      "metadata": {
        "id": "view-in-github",
        "colab_type": "text"
      },
      "source": [
        "<a href=\"https://colab.research.google.com/github/jmj732/Bigdata-Analysis/blob/master/%5B%EB%AC%B8%EC%A0%9C%ED%95%B4%EA%B2%B001%5D_%ED%8C%90%EB%8B%A4%EC%8A%A4_%EA%B8%B0%EC%B4%88_2213%EC%A1%B0%EC%9E%AC%EB%AF%BC.ipynb\" target=\"_parent\"><img src=\"https://colab.research.google.com/assets/colab-badge.svg\" alt=\"Open In Colab\"/></a>"
      ]
    },
    {
      "cell_type": "code",
      "execution_count": 1,
      "metadata": {
        "id": "dotQ2WDPJDVE",
        "colab": {
          "base_uri": "https://localhost:8080/"
        },
        "outputId": "e462650c-7fbf-4813-c44c-9e46d59dc912"
      },
      "outputs": [
        {
          "output_type": "stream",
          "name": "stdout",
          "text": [
            "0\n",
            "25\n",
            "100\n",
            "24.4\n",
            "1000\n",
            "높이가 1000일 때 기온은 19.00입니다.\n"
          ]
        }
      ],
      "source": [
        "x1 = float(input()) # 0\n",
        "y1 = float(input()) # 25\n",
        "x2 = float(input()) # 100\n",
        "y2 = float(input()) # 24.4\n",
        "\n",
        "x = float(input()) # 1000\n",
        "\n",
        "y = (y2-y1)/(x2-x1) * (x-x1) + y1\n",
        "\n",
        "print( '높이가 %d일 때 기온은 %.2f입니다.'%(x, y)) # 19.00"
      ]
    },
    {
      "cell_type": "code",
      "source": [
        "from sklearn.linear_model import LinearRegression\n",
        "import pandas as df\n",
        "import matplotlib.pyplot as plt\n",
        "import numpy as np\n",
        "data = df.DataFrame( { \"altitude\":[0,100,200,300, 400], \"temperature\":[25, 24.4, 23.8, 23.2, 22.6] } )\n",
        "\n",
        "X = data['altitude']\n",
        "Y = data['temperature']\n",
        "lineFit = LinearRegression()\n",
        "lineFit.fit(X.values.reshape(-1,1), Y)\n",
        "print('기울기:', lineFit.coef_)\n",
        "print('절편:', lineFit.intercept_)\n",
        "print( lineFit.predict(np.array([1000]).reshape(-1,1)) )\n",
        "\n",
        "plt.plot(X, Y, '*')\n",
        "plt.plot(X,lineFit.predict(X.values.reshape(-1,1)))\n",
        "plt.show()\n",
        "\n",
        "\n"
      ],
      "metadata": {
        "id": "aOnbpOqIJXA2",
        "colab": {
          "base_uri": "https://localhost:8080/",
          "height": 484
        },
        "outputId": "370f5a1b-57b1-49aa-ef1c-ff0ff11b8e7e"
      },
      "execution_count": 2,
      "outputs": [
        {
          "output_type": "stream",
          "name": "stdout",
          "text": [
            "기울기: [-0.006]\n",
            "절편: 25.0\n",
            "[19.]\n"
          ]
        },
        {
          "output_type": "display_data",
          "data": {
            "text/plain": [
              "<Figure size 640x480 with 1 Axes>"
            ],
            "image/png": "[encoded data removed]"
          },
          "metadata": {}
        }
      ]
    },
    {
      "cell_type": "code",
      "source": [
        "import pandas as pd\n",
        "url = 'https://www.koreabaseball.com/Record/Player/HitterBasic/BasicOld.aspx'\n",
        "tables = pd.read_html( url )\n",
        "tables[0].to_excel(\"KBO_타자기록.xlsx\")\n",
        "df = pd.DataFrame( tables[0] )\n",
        "print( df )"
      ],
      "metadata": {
        "id": "v4ShqU2uKR9p",
        "colab": {
          "base_uri": "https://localhost:8080/"
        },
        "outputId": "362eb22d-ca99-4100-9bc1-86fc64a2e984"
      },
      "execution_count": 5,
      "outputs": [
        {
          "output_type": "stream",
          "name": "stdout",
          "text": [
            "    순위   선수명   팀명    AVG   G  PA  AB   H  2B  3B  HR  RBI  SB  CS  BB  HBP  \\\n",
            "0    1   오명진   두산  0.407   9  30  27  11   2   1   0    5   1   1   3    0   \n",
            "1    2   구본혁   LG  0.368   9  28  19   7   0   0   0    1   2   0   8    1   \n",
            "2    3   임종찬   한화  0.348   8  24  23   8   2   0   0    0   1   0   1    0   \n",
            "3    4   김민석   두산  0.333   9  35  30  10   2   0   0    4   1   0   4    0   \n",
            "4    4   김민혁   KT  0.333   7  21  18   6   2   0   0    4   0   0   2    0   \n",
            "5    6   정준재  SSG  0.320   8  30  25   8   0   0   0    3   1   0   4    0   \n",
            "6    7  레이예스   롯데  0.304   8  24  23   7   1   0   0    2   0   0   1    0   \n",
            "7    8   나승엽   롯데  0.300   8  24  20   6   1   0   1    4   0   0   4    0   \n",
            "8    9   윤동희   롯데  0.273   8  24  22   6   1   0   1    2   0   0   2    0   \n",
            "9    9   전준우   롯데  0.273   8  24  22   6   1   0   1    2   0   1   2    0   \n",
            "10  11   송찬의   LG  0.261   9  29  23   6   0   0   0    5   1   1   4    2   \n",
            "11  12   박지환  SSG  0.250   8  30  24   6   1   0   0    4   1   0   4    0   \n",
            "12  13   강승호   두산  0.240   9  27  25   6   2   1   0    4   0   0   2    0   \n",
            "13  13   케이브   두산  0.240   9  28  25   6   2   0   0    1   0   0   3    0   \n",
            "14  15   문정빈   LG  0.214   9  32  28   6   0   0   0    5   0   0   2    0   \n",
            "15  16   박해민   LG  0.200   9  27  20   4   1   0   0    3   0   0   6    1   \n",
            "16  16   전태현   키움  0.200  10  34  30   6   0   0   1    4   0   0   3    0   \n",
            "17  18   홍창기   LG  0.192   9  28  26   5   0   0   0    0   2   0   2    0   \n",
            "18  19   신민재   LG  0.185   9  29  27   5   1   0   0    1   0   2   1    1   \n",
            "19  20   박민우   NC  0.182   8  25  22   4   1   0   1    2   0   0   2    1   \n",
            "20  21   심재훈   삼성  0.154   9  28  26   4   0   0   1    4   0   1   2    0   \n",
            "21  22   박성한  SSG  0.143   7  25  21   3   1   0   0    0   0   0   4    0   \n",
            "22  23   김재환   두산  0.130   8  29  23   3   0   0   1    3   0   0   6    0   \n",
            "23  24   고명준  SSG  0.120   7  27  25   3   1   0   0    0   0   0   2    0   \n",
            "24  25   홍현빈   삼성  0.105   9  27  19   2   0   0   1    5   0   0   7    1   \n",
            "25  26   손호영   롯데  0.091   8  24  22   2   1   0   0    2   0   0   1    0   \n",
            "\n",
            "    SO  GDP  E  \n",
            "0    4    0  0  \n",
            "1    0    1  1  \n",
            "2    5    0  0  \n",
            "3    6    0  0  \n",
            "4    0    0  0  \n",
            "5    8    0  0  \n",
            "6    2    0  0  \n",
            "7    2    2  0  \n",
            "8    3    0  0  \n",
            "9    3    1  0  \n",
            "10   4    0  0  \n",
            "11   3    0  0  \n",
            "12   6    0  0  \n",
            "13   5    1  0  \n",
            "14   6    0  2  \n",
            "15   4    0  0  \n",
            "16  11    0  1  \n",
            "17   5    1  0  \n",
            "18   6    1  0  \n",
            "19   2    2  0  \n",
            "20   8    0  2  \n",
            "21   5    2  2  \n",
            "22   9    0  0  \n",
            "23  10    1  0  \n",
            "24   5    0  1  \n",
            "25   4    1  1  \n"
          ]
        }
      ]
    },
    {
      "cell_type": "code",
      "source": [
        "# 시리즈 : pd.Series\n",
        "# 1. 다음과 같은 데이터를 이용해 pd.Series를 생성하세요.\n",
        "import pandas as pd\n",
        "\n",
        "values = [10, 20, 30, 40, 50]\n",
        "indices = ['a', 'b', 'c', 'd', 'e']\n",
        "\n",
        "series = pd.Series(data=values, index=indices)\n",
        "print(series)\n",
        "\n",
        "\n",
        "# 2. 아래와 같은 시리즈를 생성하고 값을 출력하세요.\n",
        "# 값: ['사과', '바나나', '포도', '오렌지']\n",
        "# 인덱스: [101, 102, 103, 104]\n",
        "\n",
        "values = ['사과', '바나나', '포도', '오렌지']\n",
        "indices = [101, 102, 103, 104]\n",
        "\n",
        "series = pd.Series(data=values)\n",
        "print(series)\n"
      ],
      "metadata": {
        "id": "rRFZM5grLoQb",
        "colab": {
          "base_uri": "https://localhost:8080/"
        },
        "outputId": "5b0ed8ff-2481-4bc6-baee-540e595eea5b"
      },
      "execution_count": 8,
      "outputs": [
        {
          "output_type": "stream",
          "name": "stdout",
          "text": [
            "a    10\n",
            "b    20\n",
            "c    30\n",
            "d    40\n",
            "e    50\n",
            "dtype: int64\n",
            "0     사과\n",
            "1    바나나\n",
            "2     포도\n",
            "3    오렌지\n",
            "dtype: object\n"
          ]
        }
      ]
    },
    {
      "cell_type": "code",
      "source": [
        "# 데이터 프레임\n",
        "# 1. 다음 데이터를 이용해 데이터프레임을 생성하세요.\n",
        "# 이름\t나이\t성별\n",
        "# 김철수\t20\t남\n",
        "# 이영희\t22\t여\n",
        "# 박민수\t21\t남\n",
        "\n",
        "data = {\n",
        "    '이름': ['김철수', '이영희', '박민수'],\n",
        "    '성별': ['남', '여', '남'],\n",
        "    '나이': [20, 22, 21]\n",
        "}\n",
        "\n",
        "# 2. 아래 데이터를 사용해 데이터 프레임을 생성하고 컬럼 이름을 'Product', 'Price', 'Stock'으로 설정하세요.\n",
        "# Product: ['Notebook', 'Smartphone', 'Tablet']\n",
        "# Price: [1200, 800, 500]\n",
        "# Stock: [50, 100, 70]\n",
        "\n",
        "import pandas as pd\n",
        "\n",
        "data = {\n",
        "    'Product': ['Notebook', 'Smartphone', 'Tablet'],\n",
        "    'Price': [1200, 800, 500],\n",
        "    'Stock': [50, 100, 70]\n",
        "}\n",
        "\n",
        "df = pd.DataFrame(data)\n",
        "df.columns = ['Product', 'Price', 'Stock']\n",
        "print(df)"
      ],
      "metadata": {
        "id": "PeRBxfosaa9O",
        "colab": {
          "base_uri": "https://localhost:8080/"
        },
        "outputId": "de8d4fed-4c7f-43d9-c22d-51e7d634f0cc"
      },
      "execution_count": 9,
      "outputs": [
        {
          "output_type": "stream",
          "name": "stdout",
          "text": [
            "      Product  Price  Stock\n",
            "0    Notebook   1200     50\n",
            "1  Smartphone    800    100\n",
            "2      Tablet    500     70\n"
          ]
        }
      ]
    },
    {
      "cell_type": "code",
      "source": [
        "# 시리즈로 데이터 프레임 만들기\n",
        "# 1. 다음 두 개의 시리즈를 이용해 데이터 프레임을 만드세요.\n",
        "\n",
        "# 시리즈 1: ['서울', '부산', '대구', '인천'] (인덱스는 [0, 1, 2, 3])\n",
        "# 시리즈 2: [9500000, 3500000, 2500000, 3000000] (인덱스는 [0, 1, 2, 3])\n",
        "# 데이터 프레임의 컬럼 이름은 '도시', '인구'로 설정하세요.\n",
        "series1 = pd.Series(['서울', '부산', '대구', '인천'], index=[0, 1, 2, 3])\n",
        "series2 = pd.Series([9500000, 3500000, 2500000, 3000000], index=[0, 1, 2, 3])\n",
        "data = {'도시': series1, '인구': series2}\n",
        "df = pd.DataFrame(data)\n",
        "print(df)\n"
      ],
      "metadata": {
        "id": "INPFNrjGa9rI",
        "colab": {
          "base_uri": "https://localhost:8080/"
        },
        "outputId": "48d303ef-848c-4294-d5d9-0f5f70c1b8f0"
      },
      "execution_count": 10,
      "outputs": [
        {
          "output_type": "stream",
          "name": "stdout",
          "text": [
            "   도시       인구\n",
            "0  서울  9500000\n",
            "1  부산  3500000\n",
            "2  대구  2500000\n",
            "3  인천  3000000\n"
          ]
        }
      ]
    },
    {
      "cell_type": "code",
      "source": [
        "# 딕셔너리로 데이터프레임 만들기\n",
        "# 1. 다음 딕셔너리를 이용해 데이터 프레임을 생성하세요.\n",
        "data = {\n",
        "    '이름': ['김철수', '이영희', '박민수'],\n",
        "    '성별': ['남', '여', '남'],\n",
        "    '나이': [20, 22, 21]\n",
        "}\n",
        "\n",
        "# 2. 다음과 같은 딕셔너리를 이용해 데이터 프레임을 생성하세요.\n",
        "data = {\n",
        "    'Country': ['Korea', 'Japan', 'China', 'USA'],\n",
        "    'Capital': ['Seoul', 'Tokyo', 'Beijing', 'Washington D.C.'],\n",
        "    'Population (M)': [51, 126, 144, 331]\n",
        "}"
      ],
      "metadata": {
        "id": "NCU8FdzdbGEx"
      },
      "execution_count": null,
      "outputs": []
    },
    {
      "cell_type": "code",
      "source": [
        " # 다음 딕셔너리를 데이터프레임으로 만들고, csv 파일로 저장후 다시 불러오는 코드를 작성하시오.\n",
        "import pandas as pd\n",
        "\n",
        "data = {\n",
        "    'year':[2016, 2017, 2018],\n",
        "    'GDP rate': [2.8, 3.1, 3.0],\n",
        "    'GDP': ['1.637M', '1.73M', '1.83M' ]\n",
        "}\n",
        "\n",
        "df = pd.DataFrame(data)\n",
        "df.to_csv('gdp.csv', index=False)\n",
        "df = pd.read_csv('gdp.csv')\n",
        "print(df)\n"
      ],
      "metadata": {
        "id": "BZ4fkKSYbrBQ",
        "colab": {
          "base_uri": "https://localhost:8080/"
        },
        "outputId": "44fb0669-a338-44dd-828e-165405082687"
      },
      "execution_count": 11,
      "outputs": [
        {
          "output_type": "stream",
          "name": "stdout",
          "text": [
            "   year  GDP rate     GDP\n",
            "0  2016       2.8  1.637M\n",
            "1  2017       3.1   1.73M\n",
            "2  2018       3.0   1.83M\n"
          ]
        }
      ]
    },
    {
      "cell_type": "code",
      "source": [
        "# 데이터 불러오기 옵션중 2가지 이상을 찾아보고, 그 예시 코드를 제시하시오.\n",
        "df = pd.read_csv('gdp.csv', encoding='CP949')\n",
        "print(df)"
      ],
      "metadata": {
        "id": "v7vwmmYhiXBD",
        "colab": {
          "base_uri": "https://localhost:8080/"
        },
        "outputId": "629b297f-4fab-4e1c-e460-a2e8a5bf1fb3"
      },
      "execution_count": 12,
      "outputs": [
        {
          "output_type": "stream",
          "name": "stdout",
          "text": [
            "   year  GDP rate     GDP\n",
            "0  2016       2.8  1.637M\n",
            "1  2017       3.1   1.73M\n",
            "2  2018       3.0   1.83M\n"
          ]
        }
      ]
    },
    {
      "cell_type": "markdown",
      "source": [
        "**1. head() 사용**\n",
        "*   문제 1-1 tips 데이터프레임에서 처음 5개의 행을 출력하세요.\n",
        "*   문제 1-2 tips 데이터프레임에서 처음 10개의 행을 출력하세요.\n",
        "\n",
        "**2. tail() 사용**\n",
        "*   문제 2-1 tips 데이터프레임에서 마지막 5개의 행을 출력하세요.\n",
        "*   문제 2-2 tips 데이터프레임에서 마지막 3개의 행을 출력하세요.\n",
        "\n",
        "**3. shape 사용**\n",
        "*   문제 3-1 tips 데이터프레임의 행의 개수와 열의 개수를 출력하세요.\n",
        "*   문제 3-2 tips 데이터프레임의 총 데이터 개수를 구하세요.\n",
        "힌트: shape의 값을 곱하면 총 데이터 개수를 구할 수 있습니다.\n",
        "\n",
        "**4. info() 사용**\n",
        "*   문제 4-1 tips 데이터프레임의 데이터 타입과 결측치 개수를 확인하세요.\n",
        "*   문제 4-2 각 열의 데이터 타입을 출력하세요.\n",
        "\n",
        "**5. describe() 사용**\n",
        "*   문제 5-1 tips 데이터프레임에서 기술 통계 요약값(평균, 표준편차 등)을 출력하세요.\n",
        "*   문제 5-2 total_bill, tip의 평균값과 중앙값을 출력하세요.\n",
        "\n",
        "**6. corr() 사용**\n",
        "*   문제 6-1 tips 데이터프레임에서 각 수치형 열 간의 상관 계수를 출력하세요.\n",
        "*   문제 6-2 total_bill과 tip의 상관 계수를 출력하세요.\n",
        "\n",
        "**7. nunique() 사용**\n",
        "*   문제 7-1 tips 데이터프레임의 각 열에서 고유값의 개수를 출력하세요.\n",
        "*   문제 7-2 day 열의 고유값 개수를 출력하세요.\n",
        "\n",
        "**8. value_counts() 사용**\n",
        "*   문제 8-1 day 열의 값별 빈도수를 출력하세요.\n",
        "*   문제 8-2 sex 열의 값별 빈도수를 출력하세요.\n"
      ],
      "metadata": {
        "id": "vnp6FR-JmNEP"
      }
    },
    {
      "cell_type": "code",
      "source": [
        "# 탐색적 데이터 분석(EDA)\n",
        "import pandas as pd\n",
        "import seaborn as sns\n",
        "tips = sns.load_dataset(\"tips\")\n",
        "# 문제 1-1 tips 데이터프레임에서 처음 5개의 행을 출력하세요.\n",
        "tips.head()\n",
        "# 문제 1-2 tips 데이터프레임에서 처음 10개의 행을 출력하세요.\n",
        "tips.head(10)\n",
        "\n",
        "# 문제 2-1 tips 데이터프레임에서 마지막 5개의 행을 출력하세요.\n",
        "tips.tail()\n",
        "# 문제 2-2 tips 데이터프레임에서 마지막 3개의 행을 출력하세요.\n",
        "tips.tail(3)\n",
        "\n",
        "\n",
        "# 문제 3-1 tips 데이터프레임의 행의 개수와 열의 개수를 출력하세요.\n",
        "tips.shape\n",
        "# 문제 3-2 tips 데이터프레임의 총 데이터 개수를 구하세요. 힌트: shape의 값을 곱하면 총 데이터 개수를 구할 수 있습니다.\n",
        "r, c = tips.shape\n",
        "print(r*c)\n",
        "\n",
        "# 문제 4-1 tips 데이터프레임의 데이터 타입과 결측치 개수를 확인하세요.\n",
        "tips.info()\n",
        "\n",
        "# 문제 4-2 각 열의 데이터 타입을 출력하세요.\n",
        "tips.dtypes\n",
        "\n",
        "# 문제 5-1 tips 데이터프레임에서 기술 통계 요약값(평균, 표준편차 등)을 출력하세요.\n",
        "tips.describe()\n",
        "\n",
        "# 문제 5-2 total_bill, tip의 평균값과 중앙값을 출력하세요.\n",
        "tips[['total_bill', 'tip']].agg(['mean', 'median'])\n",
        "\n",
        "# 문제 6-1 tips 데이터프레임에서 각 수치형 열 간의 상관 계수를 출력하세요.\n",
        "tips[[\"total_bill\",\"tip\",\"size\"]].corr()\n",
        "\n",
        "# 문제 6-2 total_bill과 tip의 상관 계수를 출력하세요.\n",
        "\n",
        "# 문제 7-1 tips 데이터프레임의 각 열에서 고유값의 개수를 출력하세요.\n",
        "\n",
        "# 문제 7-2 day 열의 고유값 개수를 출력하세요.\n",
        "\n",
        "# 문제 8-1 day 열의 값별 빈도수를 출력하세요.\n",
        "\n",
        "# 문제 8-2 sex 열의 값별 빈도수를 출력하세요.\n"
      ],
      "metadata": {
        "id": "AhRfxWR5jIyj",
        "colab": {
          "base_uri": "https://localhost:8080/",
          "height": 411
        },
        "outputId": "bbd35ac6-605e-474b-8ffd-ae5a77eeb1f5"
      },
      "execution_count": 37,
      "outputs": [
        {
          "output_type": "stream",
          "name": "stdout",
          "text": [
            "1708\n",
            "<class 'pandas.core.frame.DataFrame'>\n",
            "RangeIndex: 244 entries, 0 to 243\n",
            "Data columns (total 7 columns):\n",
            " #   Column      Non-Null Count  Dtype   \n",
            "---  ------      --------------  -----   \n",
            " 0   total_bill  244 non-null    float64 \n",
            " 1   tip         244 non-null    float64 \n",
            " 2   sex         244 non-null    category\n",
            " 3   smoker      244 non-null    category\n",
            " 4   day         244 non-null    category\n",
            " 5   time        244 non-null    category\n",
            " 6   size        244 non-null    int64   \n",
            "dtypes: category(4), float64(2), int64(1)\n",
            "memory usage: 7.4 KB\n"
          ]
        },
        {
          "output_type": "execute_result",
          "data": {
            "text/plain": [
              "            total_bill       tip      size\n",
              "total_bill    1.000000  0.675734  0.598315\n",
              "tip           0.675734  1.000000  0.489299\n",
              "size          0.598315  0.489299  1.000000"
            ],
            "text/html": [
              "\n",
              "  <div id=\"df-28792c94-0df9-44aa-b090-95cffa049aaa\" class=\"colab-df-container\">\n",
              "    <div>\n",
              "<style scoped>\n",
              "    .dataframe tbody tr th:only-of-type {\n",
              "        vertical-align: middle;\n",
              "    }\n",
              "\n",
              "    .dataframe tbody tr th {\n",
              "        vertical-align: top;\n",
              "    }\n",
              "\n",
              "    .dataframe thead th {\n",
              "        text-align: right;\n",
              "    }\n",
              "</style>\n",
              "<table border=\"1\" class=\"dataframe\">\n",
              "  <thead>\n",
              "    <tr style=\"text-align: right;\">\n",
              "      <th></th>\n",
              "      <th>total_bill</th>\n",
              "      <th>tip</th>\n",
              "      <th>size</th>\n",
              "    </tr>\n",
              "  </thead>\n",
              "  <tbody>\n",
              "    <tr>\n",
              "      <th>total_bill</th>\n",
              "      <td>1.000000</td>\n",
              "      <td>0.675734</td>\n",
              "      <td>0.598315</td>\n",
              "    </tr>\n",
              "    <tr>\n",
              "      <th>tip</th>\n",
              "      <td>0.675734</td>\n",
              "      <td>1.000000</td>\n",
              "      <td>0.489299</td>\n",
              "    </tr>\n",
              "    <tr>\n",
              "      <th>size</th>\n",
              "      <td>0.598315</td>\n",
              "      <td>0.489299</td>\n",
              "      <td>1.000000</td>\n",
              "    </tr>\n",
              "  </tbody>\n",
              "</table>\n",
              "</div>\n",
              "    <div class=\"colab-df-buttons\">\n",
              "\n",
              "  <div class=\"colab-df-container\">\n",
              "    <button class=\"colab-df-convert\" onclick=\"convertToInteractive('df-28792c94-0df9-44aa-b090-95cffa049aaa')\"\n",
              "            title=\"Convert this dataframe to an interactive table.\"\n",
              "            style=\"display:none;\">\n",
              "\n",
              "  <svg xmlns=\"http://www.w3.org/2000/svg\" height=\"24px\" viewBox=\"0 -960 960 960\">\n",
              "    <path d=\"M120-120v-720h720v720H120Zm60-500h600v-160H180v160Zm220 220h160v-160H400v160Zm0 220h160v-160H400v160ZM180-400h160v-160H180v160Zm440 0h160v-160H620v160ZM180-180h160v-160H180v160Zm440 0h160v-160H620v160Z\"/>\n",
              "  </svg>\n",
              "    </button>\n",
              "\n",
              "  <style>\n",
              "    .colab-df-container {\n",
              "      display:flex;\n",
              "      gap: 12px;\n",
              "    }\n",
              "\n",
              "    .colab-df-convert {\n",
              "      background-color: #E8F0FE;\n",
              "      border: none;\n",
              "      border-radius: 50%;\n",
              "      cursor: pointer;\n",
              "      display: none;\n",
              "      fill: #1967D2;\n",
              "      height: 32px;\n",
              "      padding: 0 0 0 0;\n",
              "      width: 32px;\n",
              "    }\n",
              "\n",
              "    .colab-df-convert:hover {\n",
              "      background-color: #E2EBFA;\n",
              "      box-shadow: 0px 1px 2px rgba(60, 64, 67, 0.3), 0px 1px 3px 1px rgba(60, 64, 67, 0.15);\n",
              "      fill: #174EA6;\n",
              "    }\n",
              "\n",
              "    .colab-df-buttons div {\n",
              "      margin-bottom: 4px;\n",
              "    }\n",
              "\n",
              "    [theme=dark] .colab-df-convert {\n",
              "      background-color: #3B4455;\n",
              "      fill: #D2E3FC;\n",
              "    }\n",
              "\n",
              "    [theme=dark] .colab-df-convert:hover {\n",
              "      background-color: #434B5C;\n",
              "      box-shadow: 0px 1px 3px 1px rgba(0, 0, 0, 0.15);\n",
              "      filter: drop-shadow(0px 1px 2px rgba(0, 0, 0, 0.3));\n",
              "      fill: #FFFFFF;\n",
              "    }\n",
              "  </style>\n",
              "\n",
              "    <script>\n",
              "      const buttonEl =\n",
              "        document.querySelector('#df-28792c94-0df9-44aa-b090-95cffa049aaa button.colab-df-convert');\n",
              "      buttonEl.style.display =\n",
              "        google.colab.kernel.accessAllowed ? 'block' : 'none';\n",
              "\n",
              "      async function convertToInteractive(key) {\n",
              "        const element = document.querySelector('#df-28792c94-0df9-44aa-b090-95cffa049aaa');\n",
              "        const dataTable =\n",
              "          await google.colab.kernel.invokeFunction('convertToInteractive',\n",
              "                                                    [key], {});\n",
              "        if (!dataTable) return;\n",
              "\n",
              "        const docLinkHtml = 'Like what you see? Visit the ' +\n",
              "          '<a target=\"_blank\" href=https://colab.research.google.com/notebooks/data_table.ipynb>data table notebook</a>'\n",
              "          + ' to learn more about interactive tables.';\n",
              "        element.innerHTML = '';\n",
              "        dataTable['output_type'] = 'display_data';\n",
              "        await google.colab.output.renderOutput(dataTable, element);\n",
              "        const docLink = document.createElement('div');\n",
              "        docLink.innerHTML = docLinkHtml;\n",
              "        element.appendChild(docLink);\n",
              "      }\n",
              "    </script>\n",
              "  </div>\n",
              "\n",
              "\n",
              "<div id=\"df-1504bce5-20f6-467a-9ab0-1e863a5d2b62\">\n",
              "  <button class=\"colab-df-quickchart\" onclick=\"quickchart('df-1504bce5-20f6-467a-9ab0-1e863a5d2b62')\"\n",
              "            title=\"Suggest charts\"\n",
              "            style=\"display:none;\">\n",
              "\n",
              "<svg xmlns=\"http://www.w3.org/2000/svg\" height=\"24px\"viewBox=\"0 0 24 24\"\n",
              "     width=\"24px\">\n",
              "    <g>\n",
              "        <path d=\"M19 3H5c-1.1 0-2 .9-2 2v14c0 1.1.9 2 2 2h14c1.1 0 2-.9 2-2V5c0-1.1-.9-2-2-2zM9 17H7v-7h2v7zm4 0h-2V7h2v10zm4 0h-2v-4h2v4z\"/>\n",
              "    </g>\n",
              "</svg>\n",
              "  </button>\n",
              "\n",
              "<style>\n",
              "  .colab-df-quickchart {\n",
              "      --bg-color: #E8F0FE;\n",
              "      --fill-color: #1967D2;\n",
              "      --hover-bg-color: #E2EBFA;\n",
              "      --hover-fill-color: #174EA6;\n",
              "      --disabled-fill-color: #AAA;\n",
              "      --disabled-bg-color: #DDD;\n",
              "  }\n",
              "\n",
              "  [theme=dark] .colab-df-quickchart {\n",
              "      --bg-color: #3B4455;\n",
              "      --fill-color: #D2E3FC;\n",
              "      --hover-bg-color: #434B5C;\n",
              "      --hover-fill-color: #FFFFFF;\n",
              "      --disabled-bg-color: #3B4455;\n",
              "      --disabled-fill-color: #666;\n",
              "  }\n",
              "\n",
              "  .colab-df-quickchart {\n",
              "    background-color: var(--bg-color);\n",
              "    border: none;\n",
              "    border-radius: 50%;\n",
              "    cursor: pointer;\n",
              "    display: none;\n",
              "    fill: var(--fill-color);\n",
              "    height: 32px;\n",
              "    padding: 0;\n",
              "    width: 32px;\n",
              "  }\n",
              "\n",
              "  .colab-df-quickchart:hover {\n",
              "    background-color: var(--hover-bg-color);\n",
              "    box-shadow: 0 1px 2px rgba(60, 64, 67, 0.3), 0 1px 3px 1px rgba(60, 64, 67, 0.15);\n",
              "    fill: var(--button-hover-fill-color);\n",
              "  }\n",
              "\n",
              "  .colab-df-quickchart-complete:disabled,\n",
              "  .colab-df-quickchart-complete:disabled:hover {\n",
              "    background-color: var(--disabled-bg-color);\n",
              "    fill: var(--disabled-fill-color);\n",
              "    box-shadow: none;\n",
              "  }\n",
              "\n",
              "  .colab-df-spinner {\n",
              "    border: 2px solid var(--fill-color);\n",
              "    border-color: transparent;\n",
              "    border-bottom-color: var(--fill-color);\n",
              "    animation:\n",
              "      spin 1s steps(1) infinite;\n",
              "  }\n",
              "\n",
              "  @keyframes spin {\n",
              "    0% {\n",
              "      border-color: transparent;\n",
              "      border-bottom-color: var(--fill-color);\n",
              "      border-left-color: var(--fill-color);\n",
              "    }\n",
              "    20% {\n",
              "      border-color: transparent;\n",
              "      border-left-color: var(--fill-color);\n",
              "      border-top-color: var(--fill-color);\n",
              "    }\n",
              "    30% {\n",
              "      border-color: transparent;\n",
              "      border-left-color: var(--fill-color);\n",
              "      border-top-color: var(--fill-color);\n",
              "      border-right-color: var(--fill-color);\n",
              "    }\n",
              "    40% {\n",
              "      border-color: transparent;\n",
              "      border-right-color: var(--fill-color);\n",
              "      border-top-color: var(--fill-color);\n",
              "    }\n",
              "    60% {\n",
              "      border-color: transparent;\n",
              "      border-right-color: var(--fill-color);\n",
              "    }\n",
              "    80% {\n",
              "      border-color: transparent;\n",
              "      border-right-color: var(--fill-color);\n",
              "      border-bottom-color: var(--fill-color);\n",
              "    }\n",
              "    90% {\n",
              "      border-color: transparent;\n",
              "      border-bottom-color: var(--fill-color);\n",
              "    }\n",
              "  }\n",
              "</style>\n",
              "\n",
              "  <script>\n",
              "    async function quickchart(key) {\n",
              "      const quickchartButtonEl =\n",
              "        document.querySelector('#' + key + ' button');\n",
              "      quickchartButtonEl.disabled = true;  // To prevent multiple clicks.\n",
              "      quickchartButtonEl.classList.add('colab-df-spinner');\n",
              "      try {\n",
              "        const charts = await google.colab.kernel.invokeFunction(\n",
              "            'suggestCharts', [key], {});\n",
              "      } catch (error) {\n",
              "        console.error('Error during call to suggestCharts:', error);\n",
              "      }\n",
              "      quickchartButtonEl.classList.remove('colab-df-spinner');\n",
              "      quickchartButtonEl.classList.add('colab-df-quickchart-complete');\n",
              "    }\n",
              "    (() => {\n",
              "      let quickchartButtonEl =\n",
              "        document.querySelector('#df-1504bce5-20f6-467a-9ab0-1e863a5d2b62 button');\n",
              "      quickchartButtonEl.style.display =\n",
              "        google.colab.kernel.accessAllowed ? 'block' : 'none';\n",
              "    })();\n",
              "  </script>\n",
              "</div>\n",
              "\n",
              "    </div>\n",
              "  </div>\n"
            ],
            "application/vnd.google.colaboratory.intrinsic+json": {
              "type": "dataframe",
              "summary": "{\n  \"name\": \"# \\ubb38\\uc81c 8-2 sex \\uc5f4\\uc758 \\uac12\\ubcc4 \\ube48\\ub3c4\\uc218\\ub97c \\ucd9c\\ub825\\ud558\\uc138\\uc694\",\n  \"rows\": 3,\n  \"fields\": [\n    {\n      \"column\": \"total_bill\",\n      \"properties\": {\n        \"dtype\": \"number\",\n        \"std\": 0.21310904884233575,\n        \"min\": 0.5983151309049014,\n        \"max\": 1.0,\n        \"num_unique_values\": 3,\n        \"samples\": [\n          1.0,\n          0.6757341092113648,\n          0.5983151309049014\n        ],\n        \"semantic_type\": \"\",\n        \"description\": \"\"\n      }\n    },\n    {\n      \"column\": \"tip\",\n      \"properties\": {\n        \"dtype\": \"number\",\n        \"std\": 0.25843188743740914,\n        \"min\": 0.48929877523035714,\n        \"max\": 1.0,\n        \"num_unique_values\": 3,\n        \"samples\": [\n          0.6757341092113648,\n          1.0,\n          0.48929877523035714\n        ],\n        \"semantic_type\": \"\",\n        \"description\": \"\"\n      }\n    },\n    {\n      \"column\": \"size\",\n      \"properties\": {\n        \"dtype\": \"number\",\n        \"std\": 0.2689643845213583,\n        \"min\": 0.48929877523035714,\n        \"max\": 1.0,\n        \"num_unique_values\": 3,\n        \"samples\": [\n          0.5983151309049014,\n          0.48929877523035714,\n          1.0\n        ],\n        \"semantic_type\": \"\",\n        \"description\": \"\"\n      }\n    }\n  ]\n}"
            }
          },
          "metadata": {},
          "execution_count": 37
        }
      ]
    },
    {
      "cell_type": "markdown",
      "source": [],
      "metadata": {
        "id": "zA2sYQsyvBD2"
      }
    },
    {
      "cell_type": "markdown",
      "source": [],
      "metadata": {
        "id": "zj9TbYdbtXA5"
      }
    },
    {
      "cell_type": "code",
      "source": [
        "# 데이터 추출 연습\n",
        "# 열단위, 행단위( index, 행번호 이해 필요)\n",
        "tips1 = tips.drop([2])\n",
        "tips1.head()\n",
        "# print(tips1.loc[2])\n",
        "print(tips1.iloc[2])\n",
        "\n",
        "tips.columns\n",
        "tips[['tip','day']]\n",
        "tips.loc[[1,3,5]]\n",
        "tips.loc[0:3]\n",
        "tips.iat[1,1]\n",
        "tips.iloc[1,1]\n",
        "tips.iloc[[1,2,4],[0,2]]\n",
        "tips.loc[0:3,['tip','day']]\n",
        "tips.loc[0,'tip']\n",
        "tips.iloc[0:3]\n",
        "tips[0:3]\n",
        "tips.iloc[-1]\n",
        "# 조건 이용 추출\n",
        "\n",
        "\n",
        "\n",
        "\n",
        "# 파생 변수 만들기\n",
        "\n",
        "\n",
        "# 데이터 변"
      ],
      "metadata": {
        "id": "AZHnrPh0sGat",
        "colab": {
          "base_uri": "https://localhost:8080/",
          "height": 446
        },
        "outputId": "56952652-f99b-487e-fccb-853a98d4d498"
      },
      "execution_count": 58,
      "outputs": [
        {
          "output_type": "stream",
          "name": "stdout",
          "text": [
            "total_bill     23.68\n",
            "tip             3.31\n",
            "sex             Male\n",
            "smoker            No\n",
            "day              Sun\n",
            "time          Dinner\n",
            "size               2\n",
            "Name: 3, dtype: object\n"
          ]
        },
        {
          "output_type": "execute_result",
          "data": {
            "text/plain": [
              "total_bill     18.78\n",
              "tip              3.0\n",
              "sex           Female\n",
              "smoker            No\n",
              "day             Thur\n",
              "time          Dinner\n",
              "size               2\n",
              "Name: 243, dtype: object"
            ],
            "text/html": [
              "<div>\n",
              "<style scoped>\n",
              "    .dataframe tbody tr th:only-of-type {\n",
              "        vertical-align: middle;\n",
              "    }\n",
              "\n",
              "    .dataframe tbody tr th {\n",
              "        vertical-align: top;\n",
              "    }\n",
              "\n",
              "    .dataframe thead th {\n",
              "        text-align: right;\n",
              "    }\n",
              "</style>\n",
              "<table border=\"1\" class=\"dataframe\">\n",
              "  <thead>\n",
              "    <tr style=\"text-align: right;\">\n",
              "      <th></th>\n",
              "      <th>243</th>\n",
              "    </tr>\n",
              "  </thead>\n",
              "  <tbody>\n",
              "    <tr>\n",
              "      <th>total_bill</th>\n",
              "      <td>18.78</td>\n",
              "    </tr>\n",
              "    <tr>\n",
              "      <th>tip</th>\n",
              "      <td>3.0</td>\n",
              "    </tr>\n",
              "    <tr>\n",
              "      <th>sex</th>\n",
              "      <td>Female</td>\n",
              "    </tr>\n",
              "    <tr>\n",
              "      <th>smoker</th>\n",
              "      <td>No</td>\n",
              "    </tr>\n",
              "    <tr>\n",
              "      <th>day</th>\n",
              "      <td>Thur</td>\n",
              "    </tr>\n",
              "    <tr>\n",
              "      <th>time</th>\n",
              "      <td>Dinner</td>\n",
              "    </tr>\n",
              "    <tr>\n",
              "      <th>size</th>\n",
              "      <td>2</td>\n",
              "    </tr>\n",
              "  </tbody>\n",
              "</table>\n",
              "</div><br><label><b>dtype:</b> object</label>"
            ]
          },
          "metadata": {},
          "execution_count": 58
        }
      ]
    },
    {
      "cell_type": "code",
      "source": [],
      "metadata": {
        "id": "oqbrfgmNfT7T"
      },
      "execution_count": null,
      "outputs": []
    }
  ]
}